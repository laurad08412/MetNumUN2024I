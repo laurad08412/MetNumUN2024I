{
  "nbformat": 4,
  "nbformat_minor": 0,
  "metadata": {
    "colab": {
      "provenance": [],
      "include_colab_link": true
    },
    "kernelspec": {
      "name": "python3",
      "display_name": "Python 3"
    },
    "language_info": {
      "name": "python"
    }
  },
  "cells": [
    {
      "cell_type": "markdown",
      "metadata": {
        "id": "view-in-github",
        "colab_type": "text"
      },
      "source": [
        "<a href=\"https://colab.research.google.com/github/laurad08412/MetNumUN2024I/blob/main/Quz9_2/lagudelocr_quiz9_2.ipynb\" target=\"_parent\"><img src=\"https://colab.research.google.com/assets/colab-badge.svg\" alt=\"Open In Colab\"/></a>"
      ]
    },
    {
      "cell_type": "markdown",
      "source": [
        "### Cramer by hand\n",
        "\n",
        "$$A = \\left[\n",
        "  \\begin{array}{cc}\n",
        "1 & 2\\\\\n",
        "3 & 4\n",
        "\\end{array}\n",
        "\\right],  \n",
        "b= \\left[\n",
        "\\begin{array}{c}\n",
        "5\\\\\n",
        "6\n",
        "\\end{array}\n",
        "\\right]\n",
        "$$\n",
        "$$\n",
        "Ax =B\n",
        "$$\n",
        "$$  \n",
        "\\left[\n",
        "  \\begin{array}{cc}\n",
        "1 & 2\\\\\n",
        "3 & 4\n",
        "\\end{array}\n",
        "\\right]\n",
        "\\left[\n",
        "\\begin{array}{c}\n",
        "x_1\\\\\n",
        "x_2\n",
        "\\end{array}\n",
        "\\right]  \n",
        "=\n",
        "\\left[\n",
        "\\begin{array}{c}\n",
        "5\\\\\n",
        "6\n",
        "\\end{array}\n",
        "\\right]\n",
        "$$\n",
        "\n",
        "$$Det\\ A =  (1 * 4) - (3 * 2)  = 4 - 6 = -2$$\n",
        "\n",
        "$$A_1 = \\left[\n",
        "  \\begin{array}{cc}\n",
        "5 & 2\\\\\n",
        "6 & 4\n",
        "\\end{array}\n",
        "\\right]\n",
        "$$\n",
        "\n",
        "$$Det\\ A_1 = (5 * 4) - (6 * 2) = 20 - 12 =  8$$\n",
        "\n",
        "$$x_1 =  \\frac{Det\\ A_1}{Det\\ A}= \\frac{8}{-2} =  -4$$\n",
        "\n",
        "$$A_2 = \\left[\n",
        "  \\begin{array}{cc}\n",
        "1 & 5\\\\\n",
        "3 & 6\n",
        "\\end{array}\n",
        "\\right]\n",
        "$$\n",
        "\n",
        "$$Det\\ A_2 = (1*6) - (3*5)  = 6 -15 = -9$$\n",
        "\n",
        "$$x_2 = \\frac{Det\\ A_2}{Det\\ A}= \\frac{-9}{-2} =  \\frac{9}{2}$$"
      ],
      "metadata": {
        "id": "SUmNm2PmfHU7"
      }
    },
    {
      "cell_type": "markdown",
      "source": [
        "- ***Adding a single digit to any number requires about 7.30 bits of processing.*** - World Mental Calculation: News and Resources for Competitive and Advanced Mental Calculation https://worldmentalcalculation.com/2019/06/30/fastest-possible-processing-speed-of-the-human-brain/\n",
        "\n",
        "- ***The human brain can process 11 million bits of information every second. But our conscious minds can handle only 40 to 50 bits of information a second.*** - Understanding Unconscious Bias https://www.npr.org/2020/07/14/891140598/understanding-unconscious-bias\n",
        "\n",
        "- ***A new way to analyze human reaction times shows that the brain processes data no faster than 60 bits per second.***- New Measure of Human Brain Processing Speed https://www.technologyreview.com/2009/08/25/210267/new-measure-of-human-brain-processing-speed/\n",
        "\n",
        "\n"
      ],
      "metadata": {
        "id": "3rH8z64pk2XV"
      }
    },
    {
      "cell_type": "markdown",
      "source": [
        "# Number of operations to compute a determinant by cofactor expasion\n",
        "- Cofactor expansion https://people.math.carleton.ca/~kcheung/math/notes/MATH1107/07/07_cofactor_expansion.html\n",
        "## Definition of A(i∣j)\n",
        "Let $A$ be an $n\\times n$ matrix. Let $i,j \\in \\{1,…,n\\}$. We define $A(i∣j)$  to be the matrix obtained from $A$ by removing row $i$ and column $j$ from $A$.\n",
        "\n",
        "## Cofactor formula\n",
        "One way of computing the determinant of an $n\\times n$  matrix\n",
        "\n",
        "$$A = \\left[\n",
        "  \\begin{array}{cccc}\n",
        "a_{11} & a_{12} & \\cdots & a_{1n}\\\\\n",
        "a_{21} & a_{22} & \\cdots & a_{2n}\\\\\n",
        "\\vdots  & \\vdots & \\ddots & \\vdots\\\\\n",
        "a_{n1} & a_{n2} & \\cdots & a_{nn}\\\\\n",
        "\\end{array}\n",
        "\\right]\n",
        "$$\n",
        "is to use the following formula called the cofactor formula.\n",
        "\n",
        "Pick either any $i\\ \\in \\{1,…,n\\}$ (fixed row) or $i\\ \\in \\{1,…,n\\}$ (fixed column). Then\n",
        "\n",
        "$$\\det(A)  = \\sum_{j=1}^n (-1)^{i+j}a_{ij} \\det(A(i∣j)) $$\n",
        "\n",
        "\n",
        "$C_{i,j}= (-1)^{i+j}a_{ij} \\det(A(i∣j))$ is called a cofactor of $A$.\n",
        "\n",
        "$$\\det(A)  = \\sum_{j=1}^n C_{i,j} $$\n",
        "\n"
      ],
      "metadata": {
        "id": "CgrSIpDOnaGQ"
      }
    },
    {
      "cell_type": "code",
      "source": [
        "# Code from https://stackoverflow.com/questions/16510111/computing-determinant-of-a-matrix-nxn-recursively\n",
        "\n",
        "import numpy as np\n",
        "\n",
        "def smaller_matrix(original_matrix,row, column):\n",
        "    for ii in range(len(original_matrix)):\n",
        "        new_matrix=np.delete(original_matrix,ii,0)\n",
        "        new_matrix=np.delete(new_matrix,column,1)\n",
        "        return new_matrix\n",
        "\n",
        "\n",
        "def determinant(matrix):\n",
        "    \"\"\"Returns a determinant of a matrix by recursive method.\"\"\"\n",
        "    (r,c) = matrix.shape\n",
        "    if r != c:\n",
        "        print(\"Error!Not a square matrix!\")\n",
        "        return None\n",
        "    elif r==2:\n",
        "        simple_determinant = matrix[0][0]*matrix[1][1]-matrix[0][1]*matrix[1][0]\n",
        "        return simple_determinant\n",
        "    else:\n",
        "        answer=0\n",
        "        for j in range(r):\n",
        "            cofactor = (-1)**(0+j) * matrix[0][j] * determinant(smaller_matrix(matrix, 0, j))\n",
        "            answer+= cofactor\n",
        "        return answer"
      ],
      "metadata": {
        "id": "J-joKRBhC7eF"
      },
      "execution_count": null,
      "outputs": []
    },
    {
      "cell_type": "code",
      "source": [
        "#test the function\n",
        "#Only works for numpy.array input\n",
        "np.random.seed(1)"
      ],
      "metadata": {
        "id": "Il2pcRD4DptG"
      },
      "execution_count": null,
      "outputs": []
    },
    {
      "cell_type": "code",
      "source": [
        "n = 2\n",
        "matrix=np.random.randint(-5,5,size=(n,n))\n",
        "matrix"
      ],
      "metadata": {
        "colab": {
          "base_uri": "https://localhost:8080/"
        },
        "id": "AgKC1-aiFRW2",
        "outputId": "19f17faf-b906-433c-bf46-ce7399124ddd"
      },
      "execution_count": null,
      "outputs": [
        {
          "output_type": "execute_result",
          "data": {
            "text/plain": [
              "array([[0, 3],\n",
              "       [4, 0]])"
            ]
          },
          "metadata": {},
          "execution_count": 3
        }
      ]
    },
    {
      "cell_type": "code",
      "source": [
        "determinant(matrix)"
      ],
      "metadata": {
        "colab": {
          "base_uri": "https://localhost:8080/"
        },
        "outputId": "256ae635-c82f-48c8-bf51-2e7937cab554",
        "id": "oI0rUp-SDptH"
      },
      "execution_count": null,
      "outputs": [
        {
          "output_type": "execute_result",
          "data": {
            "text/plain": [
              "-12"
            ]
          },
          "metadata": {},
          "execution_count": 4
        }
      ]
    },
    {
      "cell_type": "code",
      "source": [
        "np.linalg.det(matrix)"
      ],
      "metadata": {
        "colab": {
          "base_uri": "https://localhost:8080/"
        },
        "id": "iqZv7iK-KKXH",
        "outputId": "1f8e2e11-0fe8-4cc1-88fc-e4516d46a3d3"
      },
      "execution_count": null,
      "outputs": [
        {
          "output_type": "execute_result",
          "data": {
            "text/plain": [
              "-12.0"
            ]
          },
          "metadata": {},
          "execution_count": 5
        }
      ]
    },
    {
      "cell_type": "code",
      "source": [
        "round(np.linalg.det(matrix))"
      ],
      "metadata": {
        "colab": {
          "base_uri": "https://localhost:8080/"
        },
        "id": "sY21rHM-KdlO",
        "outputId": "85821814-5cdb-4d9b-e819-46a76a42267d"
      },
      "execution_count": null,
      "outputs": [
        {
          "output_type": "execute_result",
          "data": {
            "text/plain": [
              "-12"
            ]
          },
          "metadata": {},
          "execution_count": 6
        }
      ]
    },
    {
      "cell_type": "code",
      "source": [
        "n = 5\n",
        "matrix=np.diag(np.random.randint(-10,10,size=(n)))\n",
        "matrix"
      ],
      "metadata": {
        "colab": {
          "base_uri": "https://localhost:8080/"
        },
        "id": "-QXGZWFIDs5k",
        "outputId": "aeccdb7b-3eb9-408c-b222-4e672ba6bb0a"
      },
      "execution_count": null,
      "outputs": [
        {
          "output_type": "execute_result",
          "data": {
            "text/plain": [
              "array([[  5,   0,   0,   0,   0],\n",
              "       [  0, -10,   0,   0,   0],\n",
              "       [  0,   0,   6,   0,   0],\n",
              "       [  0,   0,   0,  -9,   0],\n",
              "       [  0,   0,   0,   0,   2]])"
            ]
          },
          "metadata": {},
          "execution_count": 7
        }
      ]
    },
    {
      "cell_type": "code",
      "source": [
        "determinant(matrix)"
      ],
      "metadata": {
        "colab": {
          "base_uri": "https://localhost:8080/"
        },
        "id": "VP6hRwhwD-3W",
        "outputId": "26dd11c5-92d0-4516-b0a5-3e49ef706198"
      },
      "execution_count": null,
      "outputs": [
        {
          "output_type": "execute_result",
          "data": {
            "text/plain": [
              "5400"
            ]
          },
          "metadata": {},
          "execution_count": 8
        }
      ]
    },
    {
      "cell_type": "code",
      "source": [
        "np.linalg.det(matrix)"
      ],
      "metadata": {
        "colab": {
          "base_uri": "https://localhost:8080/"
        },
        "id": "8NV7Zvp-KtRz",
        "outputId": "c648b619-5b70-4a29-9e6d-6fca686a7b84"
      },
      "execution_count": null,
      "outputs": [
        {
          "output_type": "execute_result",
          "data": {
            "text/plain": [
              "5400.000000000003"
            ]
          },
          "metadata": {},
          "execution_count": 9
        }
      ]
    },
    {
      "cell_type": "code",
      "source": [
        "round(np.linalg.det(matrix))"
      ],
      "metadata": {
        "colab": {
          "base_uri": "https://localhost:8080/"
        },
        "id": "HXKK3weLKt5T",
        "outputId": "bdb27a5c-cf07-4ffa-9df0-1b0746955213"
      },
      "execution_count": null,
      "outputs": [
        {
          "output_type": "execute_result",
          "data": {
            "text/plain": [
              "5400"
            ]
          },
          "metadata": {},
          "execution_count": 10
        }
      ]
    },
    {
      "cell_type": "code",
      "source": [
        "# Modified from the previous code\n",
        "import numpy as np\n",
        "\n",
        "# A a squared numpy matrix\n",
        "def det(A):\n",
        "    \"\"\"Returns a determinant of a matrix by recursive method.\"\"\"\n",
        "    (r,c) = A.shape\n",
        "    if r != c:\n",
        "        print(\"Error!Not a square matrix!\")\n",
        "        return None\n",
        "    elif r==1:\n",
        "          # the code with  r==2 is more efficient but we use this\n",
        "         # because the number of operations is easier to compute\n",
        "        return A[0][0]\n",
        "    else:\n",
        "        answer=0\n",
        "        for j in range(r):\n",
        "            s = 1 if (0+j)%2 == 0 else -1\n",
        "            Aij = np.delete(A,0,0)\n",
        "            Aij = np.delete(Aij,j,1)\n",
        "            cofactor = (s) * A[0][j] * det(Aij)\n",
        "            answer+= cofactor\n",
        "        return answer"
      ],
      "metadata": {
        "id": "B258g8lnBgnG"
      },
      "execution_count": null,
      "outputs": []
    },
    {
      "cell_type": "code",
      "source": [
        "#test the function\n",
        "#Only works for numpy.array input\n",
        "np.random.seed(1)"
      ],
      "metadata": {
        "id": "ZR2mjlqiGdM6"
      },
      "execution_count": null,
      "outputs": []
    },
    {
      "cell_type": "code",
      "source": [
        "n = 2\n",
        "A=np.random.randint(-5,5,size=(n,n))\n",
        "A"
      ],
      "metadata": {
        "colab": {
          "base_uri": "https://localhost:8080/"
        },
        "outputId": "3359e009-40fb-4e74-aacf-f816b9fa0332",
        "id": "jPpBCFaoGlak"
      },
      "execution_count": null,
      "outputs": [
        {
          "output_type": "execute_result",
          "data": {
            "text/plain": [
              "array([[0, 3],\n",
              "       [4, 0]])"
            ]
          },
          "metadata": {},
          "execution_count": 13
        }
      ]
    },
    {
      "cell_type": "code",
      "source": [
        "det(A)"
      ],
      "metadata": {
        "colab": {
          "base_uri": "https://localhost:8080/"
        },
        "outputId": "ca2892d8-987e-427f-c947-73ffa892820f",
        "id": "WKbuirZeGlak"
      },
      "execution_count": null,
      "outputs": [
        {
          "output_type": "execute_result",
          "data": {
            "text/plain": [
              "-12"
            ]
          },
          "metadata": {},
          "execution_count": 47
        }
      ]
    },
    {
      "cell_type": "code",
      "source": [
        "determinant(A)"
      ],
      "metadata": {
        "colab": {
          "base_uri": "https://localhost:8080/"
        },
        "id": "_B5xBFirTvQm",
        "outputId": "18f99a50-c687-4086-c75c-25e231427da8"
      },
      "execution_count": null,
      "outputs": [
        {
          "output_type": "execute_result",
          "data": {
            "text/plain": [
              "-12"
            ]
          },
          "metadata": {},
          "execution_count": 48
        }
      ]
    },
    {
      "cell_type": "code",
      "source": [
        "np.linalg.det(A)"
      ],
      "metadata": {
        "colab": {
          "base_uri": "https://localhost:8080/"
        },
        "outputId": "0c754856-639e-4433-fb02-48ece86664a2",
        "id": "bRyF2dsFLbXC"
      },
      "execution_count": null,
      "outputs": [
        {
          "output_type": "execute_result",
          "data": {
            "text/plain": [
              "-12.0"
            ]
          },
          "metadata": {},
          "execution_count": 49
        }
      ]
    },
    {
      "cell_type": "code",
      "source": [
        "round(np.linalg.det(A))"
      ],
      "metadata": {
        "colab": {
          "base_uri": "https://localhost:8080/"
        },
        "outputId": "d4b925dd-0f97-4da6-8a9a-d369f459439b",
        "id": "sOe1w9FPLbXD"
      },
      "execution_count": null,
      "outputs": [
        {
          "output_type": "execute_result",
          "data": {
            "text/plain": [
              "-12"
            ]
          },
          "metadata": {},
          "execution_count": 50
        }
      ]
    },
    {
      "cell_type": "code",
      "source": [
        "n = 10\n",
        "\n",
        "A=np.random.randint(-10,10,size=(n,n))\n",
        "\n",
        "A"
      ],
      "metadata": {
        "colab": {
          "base_uri": "https://localhost:8080/"
        },
        "outputId": "c53da82b-2459-4f19-c22a-d225991251f1",
        "id": "jzFX1soHGlak"
      },
      "execution_count": null,
      "outputs": [
        {
          "output_type": "execute_result",
          "data": {
            "text/plain": [
              "array([[  5, -10,   6,  -9,   2,  -3,   3,  -4,   8,  -5],\n",
              "       [  8,   1,   0,   4,   8,  -6,  -1,   7, -10,   3],\n",
              "       [ -1,  -1,  -3,  -9, -10,   7,  -2,   3,   9,   5],\n",
              "       [  0,  -2,  -3,  -7,  -4,   7,  -7,  -6,   7,   1],\n",
              "       [  2,   6,   3,   9,  -1,   8,   5, -10,  -6,   5],\n",
              "       [ -8,  -3,  -2,  -1,  -7,  -3,  -6,  -5,   9,  -4],\n",
              "       [ -2, -10,  -8,   0,   5,   5,  -3,   9,   0,   4],\n",
              "       [-10,  -9,   7,   3,  -7, -10,   3,  -4,  -4,  -8],\n",
              "       [  2,   1,  -3,   3,  -2,   1,   2,   1,  -6,  -3],\n",
              "       [ -3,   3,  -6,   6,   8, -10,   3,   0,   7,  -3]])"
            ]
          },
          "metadata": {},
          "execution_count": 14
        }
      ]
    },
    {
      "cell_type": "code",
      "source": [
        "import time\n",
        "\n",
        "start_time = time.time()\n",
        "d = det(A)\n",
        "end_time = time.time()"
      ],
      "metadata": {
        "id": "I97qAqxGGlak"
      },
      "execution_count": null,
      "outputs": []
    },
    {
      "cell_type": "code",
      "source": [
        "print(\"det(A): \",d)\n",
        "print(\"time: \",end_time - start_time)"
      ],
      "metadata": {
        "colab": {
          "base_uri": "https://localhost:8080/"
        },
        "id": "s7Ud-gBiTD0n",
        "outputId": "a5c4667c-a24b-4980-e6e5-4c3c206fb693"
      },
      "execution_count": null,
      "outputs": [
        {
          "output_type": "stream",
          "name": "stdout",
          "text": [
            "det(A):  29129065307\n",
            "time:  71.78950071334839\n"
          ]
        }
      ]
    },
    {
      "cell_type": "code",
      "source": [
        "import time\n",
        "\n",
        "start_time = time.time()\n",
        "d = determinant(A)\n",
        "end_time = time.time()"
      ],
      "metadata": {
        "id": "kjLXFQOeTRd2"
      },
      "execution_count": null,
      "outputs": []
    },
    {
      "cell_type": "code",
      "source": [
        "print(\"determinant(A): \",d)\n",
        "print(\"time: \",end_time - start_time)"
      ],
      "metadata": {
        "colab": {
          "base_uri": "https://localhost:8080/"
        },
        "id": "_TQFWy4ZSiDZ",
        "outputId": "c4519a89-daaf-4463-9e43-034fbd082690"
      },
      "execution_count": null,
      "outputs": [
        {
          "output_type": "stream",
          "name": "stdout",
          "text": [
            "determinant(A):  29129065307\n",
            "time:  34.53911471366882\n"
          ]
        }
      ]
    },
    {
      "cell_type": "code",
      "source": [
        "import time\n",
        "\n",
        "start_time = time.time()\n",
        "d = np.linalg.det(A)\n",
        "end_time = time.time()"
      ],
      "metadata": {
        "id": "jL23i77VT55-"
      },
      "execution_count": null,
      "outputs": []
    },
    {
      "cell_type": "code",
      "source": [
        "print(\"np.linalg.det(A): \",d)\n",
        "print(\"time: \",end_time - start_time)"
      ],
      "metadata": {
        "colab": {
          "base_uri": "https://localhost:8080/"
        },
        "id": "n94nx14VT5wn",
        "outputId": "b8b5d50e-0e7a-4fa0-84e5-a88bc3ee25fb"
      },
      "execution_count": null,
      "outputs": [
        {
          "output_type": "stream",
          "name": "stdout",
          "text": [
            "np.linalg.det(A):  29129065306.99992\n",
            "time:  0.0002651214599609375\n"
          ]
        }
      ]
    },
    {
      "cell_type": "markdown",
      "source": [
        "# Estimating the time by instruction in Python in a Colab machine"
      ],
      "metadata": {
        "id": "Ssedt2z56DNC"
      }
    },
    {
      "cell_type": "code",
      "source": [
        "import numpy as np\n",
        "\n",
        "n = 100\n",
        "\n",
        "A = np.ones((n,n))\n",
        "\n",
        "A"
      ],
      "metadata": {
        "colab": {
          "base_uri": "https://localhost:8080/"
        },
        "id": "1KhlyeNi4uwa",
        "outputId": "67e051c7-62fc-4d92-99cc-16f453893e41"
      },
      "execution_count": null,
      "outputs": [
        {
          "output_type": "execute_result",
          "data": {
            "text/plain": [
              "array([[1., 1., 1., ..., 1., 1., 1.],\n",
              "       [1., 1., 1., ..., 1., 1., 1.],\n",
              "       [1., 1., 1., ..., 1., 1., 1.],\n",
              "       ...,\n",
              "       [1., 1., 1., ..., 1., 1., 1.],\n",
              "       [1., 1., 1., ..., 1., 1., 1.],\n",
              "       [1., 1., 1., ..., 1., 1., 1.]])"
            ]
          },
          "metadata": {},
          "execution_count": 22
        }
      ]
    },
    {
      "cell_type": "code",
      "source": [
        "B = np.ones((n,n))\n",
        "\n",
        "B"
      ],
      "metadata": {
        "colab": {
          "base_uri": "https://localhost:8080/"
        },
        "id": "RKtHO3UY5M87",
        "outputId": "88284292-b440-4205-bc6c-63fc7b8093f3"
      },
      "execution_count": null,
      "outputs": [
        {
          "output_type": "execute_result",
          "data": {
            "text/plain": [
              "array([[1., 1., 1., ..., 1., 1., 1.],\n",
              "       [1., 1., 1., ..., 1., 1., 1.],\n",
              "       [1., 1., 1., ..., 1., 1., 1.],\n",
              "       ...,\n",
              "       [1., 1., 1., ..., 1., 1., 1.],\n",
              "       [1., 1., 1., ..., 1., 1., 1.],\n",
              "       [1., 1., 1., ..., 1., 1., 1.]])"
            ]
          },
          "metadata": {},
          "execution_count": 23
        }
      ]
    },
    {
      "cell_type": "code",
      "source": [
        "import time\n",
        "\n",
        "C= np.zeros((n,n))\n",
        "\n",
        "start_time = time.time()\n",
        "for i in range(n):\n",
        "        for j in range(n):\n",
        "            C[i][j] = 0\n",
        "            for k in range(len(A[0])):\n",
        "                C[i][j] += A[i][k] * B[k][j]\n",
        "end_time = time.time()\n",
        "print(end_time - start_time)"
      ],
      "metadata": {
        "colab": {
          "base_uri": "https://localhost:8080/"
        },
        "id": "0UFSLi-F5P0a",
        "outputId": "295e743d-6479-4cad-a782-ce3e89f0133b"
      },
      "execution_count": null,
      "outputs": [
        {
          "output_type": "stream",
          "name": "stdout",
          "text": [
            "1.166609764099121\n"
          ]
        }
      ]
    },
    {
      "cell_type": "code",
      "source": [
        "C"
      ],
      "metadata": {
        "colab": {
          "base_uri": "https://localhost:8080/"
        },
        "id": "h9zr4Z9P61bs",
        "outputId": "cb7248d1-b43c-49b0-9552-c740c1565c64"
      },
      "execution_count": null,
      "outputs": [
        {
          "output_type": "execute_result",
          "data": {
            "text/plain": [
              "array([[100., 100., 100., ..., 100., 100., 100.],\n",
              "       [100., 100., 100., ..., 100., 100., 100.],\n",
              "       [100., 100., 100., ..., 100., 100., 100.],\n",
              "       ...,\n",
              "       [100., 100., 100., ..., 100., 100., 100.],\n",
              "       [100., 100., 100., ..., 100., 100., 100.],\n",
              "       [100., 100., 100., ..., 100., 100., 100.]])"
            ]
          },
          "metadata": {},
          "execution_count": 25
        }
      ]
    },
    {
      "cell_type": "code",
      "source": [
        "time_by_oper_python = (end_time - start_time)/(2*n**3 - n**2)\n",
        "\n",
        "time_by_oper_python"
      ],
      "metadata": {
        "colab": {
          "base_uri": "https://localhost:8080/"
        },
        "id": "iEhaMEK77Ko7",
        "outputId": "e0bb7f22-b61b-4b27-8279-7ccf775204cd"
      },
      "execution_count": null,
      "outputs": [
        {
          "output_type": "execute_result",
          "data": {
            "text/plain": [
              "5.862360623613674e-07"
            ]
          },
          "metadata": {},
          "execution_count": 26
        }
      ]
    },
    {
      "cell_type": "code",
      "source": [
        "import time\n",
        "import numpy as np\n",
        "\n",
        "start_time = time.time()\n",
        "C = A@B\n",
        "end_time = time.time()\n",
        "print(end_time - start_time)"
      ],
      "metadata": {
        "colab": {
          "base_uri": "https://localhost:8080/"
        },
        "id": "TfGsw6UF9o-a",
        "outputId": "d3b71e4b-c3dd-47e9-a24e-cd8ca08fd7aa"
      },
      "execution_count": null,
      "outputs": [
        {
          "output_type": "stream",
          "name": "stdout",
          "text": [
            "0.005964756011962891\n"
          ]
        }
      ]
    },
    {
      "cell_type": "code",
      "source": [
        "C"
      ],
      "metadata": {
        "colab": {
          "base_uri": "https://localhost:8080/"
        },
        "id": "Q5MtZtVT93oQ",
        "outputId": "1d32d3bc-4b7c-4afd-f70d-cd5ed5bb5c9d"
      },
      "execution_count": null,
      "outputs": [
        {
          "output_type": "execute_result",
          "data": {
            "text/plain": [
              "array([[100., 100., 100., ..., 100., 100., 100.],\n",
              "       [100., 100., 100., ..., 100., 100., 100.],\n",
              "       [100., 100., 100., ..., 100., 100., 100.],\n",
              "       ...,\n",
              "       [100., 100., 100., ..., 100., 100., 100.],\n",
              "       [100., 100., 100., ..., 100., 100., 100.],\n",
              "       [100., 100., 100., ..., 100., 100., 100.]])"
            ]
          },
          "metadata": {},
          "execution_count": 28
        }
      ]
    },
    {
      "cell_type": "code",
      "source": [
        "time_by_oper_numpy = (end_time - start_time)/(2*n**3 - n**2)\n",
        "\n",
        "time_by_oper_numpy"
      ],
      "metadata": {
        "colab": {
          "base_uri": "https://localhost:8080/"
        },
        "id": "DTVYQYxT-TsJ",
        "outputId": "73f69d0d-cb89-468f-9513-8bf6b738bf6f"
      },
      "execution_count": null,
      "outputs": [
        {
          "output_type": "execute_result",
          "data": {
            "text/plain": [
              "2.997364830132106e-09"
            ]
          },
          "metadata": {},
          "execution_count": 29
        }
      ]
    },
    {
      "cell_type": "markdown",
      "source": [
        "# Time estimation for the digital computer computation of a 3 x 3 matrix determinant by cofactor expansion\n",
        "\n",
        "The number of operations $(+,-,*)$ perfomed  *det(A)* algorithm that calculates\n",
        "\n",
        "$$\\det(A)  = \\sum_{j=1}^n (-1)^{i+j}a_{ij} \\det(A(i∣j)) $$\n",
        "\n",
        "is given by\n",
        "\n",
        "$$\\begin{array}{lll}\n",
        "T(n) & =&  nT(n-1) + 5n , T(1) = 1\\\\\n",
        "\\end{array}\n",
        "$$\n",
        "\n",
        "$$\\begin{array}{lll}\n",
        "T(n) & =&  nT(n-1) + 5n\\\\\n",
        "     & =&  n[(n-1) T(n-2) + 5 (n-1) +10] + 5n  \\\\\n",
        "     & =&  n(n-1) T(n-2) + 5 n  (n-1) + 5n \\\\\n",
        "     & =&  n(n-1) [(n-2) T(n-3) + 5 (n-2)] + 5 n(n-1) + 5n\\\\\n",
        "     & = & n(n-1)(n-2) T(n-3) + 5n(n-1)(n-2)+  5 n  (n-1) + 5n \\\\\n",
        "     & \\vdots\\\\\n",
        "     & = &  n(n-1)(n-2)\\cdots (n -(n-2))  T(1) + [5n(n-1)(n-2)(n-3)\\cdots (n -(n-3))] + \\cdots + [5 n (n-1)]+ 5n \\\\\n",
        "    & = & n! + [5n(n-1)(n-2)(n-3)\\cdots 2] + [5n(n-1)(n-2)(n-3)\\cdots 3]+ \\cdots +[5 n (n-1) (n-3)] + [5 n (n-1)]+ 5n  \n",
        "\\end{array}\n",
        "$$\n",
        "\n",
        "$$T(n) = n! + 5 \\sum_{i=0}^{n-1} n!/i! = n! + 5 n!\\sum_{i=0}^{n-1} \\frac{1}{i!} < n! + 5 e n! < 16 n!  $$\n",
        "\n",
        "1. Asumming that an arithmetic operation takes the *time_by_oper_python* estimated before,  what is the maximun square matrix size for which the deteminant can be computed with cofactor extesion in $\\le$ 3 minute. Report the time at [LABCramer](https://docs.google.com/spreadsheets/d/1JNUbuj3QHcyPmp8i6kNreUFucj2mOvKHkCFHHy7zfws/edit?usp=sharing).\n",
        "\n",
        "2. Run an experiment with a random matrix of that size and report the time at [LABCramer](https://docs.google.com/spreadsheets/d/1JNUbuj3QHcyPmp8i6kNreUFucj2mOvKHkCFHHy7zfws/edit?usp=sharing).\n",
        "\n",
        "If the determinant of a $n \\times n$ square matrix takes $16 n!$ operations how much takes the Crammer solution of $n \\times n$ systems of linear equations?\n",
        "\n",
        "\n",
        "\n",
        "\n"
      ],
      "metadata": {
        "id": "PhAai3wzo_Tc"
      }
    },
    {
      "cell_type": "markdown",
      "source": [
        "**1.**"
      ],
      "metadata": {
        "id": "tLfZ07kzOXtV"
      }
    },
    {
      "cell_type": "code",
      "source": [
        "import math\n",
        "\n",
        "time_by_oper_python = 5.862360623613674e-07\n",
        "\n",
        "def T(n):\n",
        "    result = math.factorial(n)\n",
        "    for i in range(n):\n",
        "        result += 5 * (math.factorial(n) // math.factorial(i))\n",
        "    return result\n",
        "\n",
        "def total_time(n):\n",
        "    return T(n) * time_by_oper_python\n",
        "\n",
        "max_n = 1\n",
        "while total_time(max_n) <= 180:\n",
        "    max_n += 1\n",
        "\n",
        "print(\"Maximum square matrix size (n):\", max_n - 1)\n"
      ],
      "metadata": {
        "colab": {
          "base_uri": "https://localhost:8080/"
        },
        "id": "jba40b8XOnNs",
        "outputId": "b0a9daeb-bcbc-40a4-b53f-acb23aad69ea"
      },
      "execution_count": null,
      "outputs": [
        {
          "output_type": "stream",
          "name": "stdout",
          "text": [
            "Maximum square matrix size (n): 10\n"
          ]
        }
      ]
    },
    {
      "cell_type": "markdown",
      "source": [
        "Answer: 10"
      ],
      "metadata": {
        "id": "XAM5I1zmSVJ7"
      }
    },
    {
      "cell_type": "markdown",
      "source": [
        "**2.**"
      ],
      "metadata": {
        "id": "GU8oZhSPSdhh"
      }
    },
    {
      "cell_type": "code",
      "source": [
        "import numpy as np\n",
        "import time\n",
        "\n",
        "def determinant_cofactor(matrix):\n",
        "    size = len(matrix)\n",
        "    if size == 1:\n",
        "        return matrix[0, 0]\n",
        "    else:\n",
        "        det = 0\n",
        "        for j in range(size):\n",
        "            minor = np.delete(np.delete(matrix, 0, axis=0), j, axis=1)\n",
        "            det += ((-1) ** j) * matrix[0, j] * determinant_cofactor(minor)\n",
        "        return det\n",
        "\n",
        "max_n = 10\n",
        "\n",
        "random_matrix = np.random.rand(max_n, max_n)\n",
        "\n",
        "start_time = time.time()\n",
        "det = determinant_cofactor(random_matrix)\n",
        "end_time = time.time()\n",
        "\n",
        "print(\"Time taken:\", end_time - start_time)\n"
      ],
      "metadata": {
        "colab": {
          "base_uri": "https://localhost:8080/"
        },
        "id": "Jol80foUShUC",
        "outputId": "8c055c4d-de7b-4e5a-9068-44c442097442"
      },
      "execution_count": null,
      "outputs": [
        {
          "output_type": "stream",
          "name": "stdout",
          "text": [
            "Time taken: 69.95947766304016\n"
          ]
        }
      ]
    },
    {
      "cell_type": "markdown",
      "source": [
        "Answer: 69.95947766304016\n",
        "\n"
      ],
      "metadata": {
        "id": "ywDdDu2bTFpO"
      }
    },
    {
      "cell_type": "markdown",
      "source": [
        "# Time estimation for the human computer computation of a 3 x 3 matrix determinant by cofactor expansion\n",
        "\n",
        " Write a 3 x 3 matrix with the first element as your list number Mod 10 and the rest row by row 1,2,3,...9 skipimg the first element, by example if youir list number is 12, your list number Mod 10 is 2 and the matrix is\n",
        "$$A = \\left[\n",
        "  \\begin{array}{ccc}\n",
        "2 & 1 & 3\\\\\n",
        "4 & 5 & 6\\\\\n",
        "7 & 8 & 9\\\\\n",
        "\\end{array}\n",
        "\\right]\n",
        "$$\n",
        "Use a chronometer like http://online-stopwatch.chronme.com/ to estimate the time to compute the determinant by using the procedure in the follo wing exmaple (https://people.math.carleton.ca/~kcheung/math/notes/MATH1107/07/07_cofactor_expansion.html):<br />  \n",
        "Let\n",
        "$$A = \\begin{bmatrix} 1 & 2 & 3\\\\ 4 & 5 & 6\\\\ 7 & 8 & 9 \\end{bmatrix}$$\n",
        "we compute $\\det(A)$ by expanding along row $2$ as <br /> <br />\n",
        "$$\\begin{eqnarray} \\det(A) & = & (-1)^{2+1}A_{2,1}\\det(A(2 \\mid 1)) + (-1)^{2+2}A_{2,2}\\det(A(2 \\mid 2)) + (-1)^{2+3}A_{2,3}\\det(A(2 \\mid 3)) \\\\ & = & -4\\left|\\begin{matrix} 2 & 3 \\\\ 8 & 9\\end{matrix}\\right| + 5\\left|\\begin{matrix} 1 & 3 \\\\ 7 & 9\\end{matrix}\\right| - 6\\left|\\begin{matrix} 1 & 2 \\\\ 7 & 8\\end{matrix}\\right| \\\\ & = & -4(2\\cdot 9 - 3\\cdot 8) + 5(1 \\cdot 9- 3\\cdot 7) - 6(1\\cdot 8 - 2 \\cdot 7) \\\\ & = & 24 - 60 + 36 \\\\ & = & 0 \\end{eqnarray}$$\n",
        "3. Report the time at [LABCramer](https://docs.google.com/spreadsheets/d/1JNUbuj3QHcyPmp8i6kNreUFucj2mOvKHkCFHHy7zfws/edit?usp=sharing)\n",
        "4. Report the value of the determinant at [LABCramer](https://docs.google.com/spreadsheets/d/1JNUbuj3QHcyPmp8i6kNreUFucj2mOvKHkCFHHy7zfws/edit?usp=sharing)\n"
      ],
      "metadata": {
        "id": "__brdhGadAXY"
      }
    },
    {
      "cell_type": "markdown",
      "source": [
        "**3.**\n",
        "Numero en la lista mod 10: 1\n",
        "$$A = \\left[\n",
        "  \\begin{array}{ccc}\n",
        "1 & 2 & 3\\\\\n",
        "4 & 5 & 6\\\\\n",
        "7 & 8 & 9\\\\\n",
        "\\end{array}\n",
        "\\right]\n",
        "$$\n",
        "Duracion: 121.34 segundos\n",
        "\n"
      ],
      "metadata": {
        "id": "tc7p0kUvVSZk"
      }
    },
    {
      "cell_type": "markdown",
      "source": [
        "**4.**\n",
        "Resultado determinante: 0\n"
      ],
      "metadata": {
        "id": "81s84MzZWqap"
      }
    }
  ]
}